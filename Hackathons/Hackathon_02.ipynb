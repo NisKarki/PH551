{
 "cells": [
  {
   "cell_type": "markdown",
   "metadata": {
    "id": "P3DtjEbf8M4I"
   },
   "source": [
    "**Introduction**\n",
    "\n",
    "Machine Learning algorithms have become an increasingly important tool for analyzing the data from the Large Hadron Collider (LHC). Identification of particles in LHC collisions is an important task of LHC detector reconstruction algorithms.\n",
    "\n",
    "Here we present a challenge where one of the detectors (the Electromagnetic Calorimeter or ECAL) is used as a camera to analyze detector images from two types of particles: electrons and photons that deposit their energy in this detector.\n",
    "\n",
    "**Dataset**\n",
    "\n",
    "Each pixel in the image corresponds to a detector cell, while the intensity of the pixel corresponds to how much energy is measured in that cell. Timing of the energy deposits are also available, though this may or may not be relevant. The dataset contains 32x32 Images of the energy hits and their timing (channel 1: hit energy and channel 2: its timing) in each calorimeter cell (one cell = one pixel) for the two classes of particles: Electrons and Photons. The dataset contains around four hundred thousand images for electrons and photons. Please note that your final model will be evaluated on an unseen test dataset.\n",
    "\n",
    "**Algorithm**\n",
    "\n",
    "Please use a Machine Learning model of your choice to achieve the highest possible classification performance on the provided dataset. Please provide a Jupyter Notebook that shows your solution.\n",
    "\n",
    "Evaluation Metrics\n",
    "ROC curve (Receiver Operating Characteristic curve) and AUC score (Area Under the ROC Curve)\n",
    "Training and Validation Accuracy\n",
    "The model performance will be tested on a hidden test dataset based on the above metrics.\n",
    "\n",
    "**Deliverables**\n",
    "\n",
    "Google Colab Jupyter Notebook showing your solution along with the final model accuracy (Training and Validation), ROC curve and AUC score. More details regarding the format of the notebook can be found in the sample Google Colab notebook provided for this challenge.\n",
    "The final trained model including the model architecture and the trained weights ( For example: HDF5 file, .pb file, .pt file, etc. ). You are free to choose Machine Learning Framework of your choice.\n"
   ]
  },
  {
   "cell_type": "markdown",
   "metadata": {
    "id": "g0b6SRpWl2Xh"
   },
   "source": [
    "## Create the appropriate project folder"
   ]
  },
  {
   "cell_type": "code",
   "execution_count": null,
   "metadata": {
    "id": "OYRULwKaw_A6"
   },
   "outputs": [],
   "source": [
    "mkdir Particle_Images"
   ]
  },
  {
   "cell_type": "code",
   "execution_count": 1,
   "metadata": {
    "colab": {
     "base_uri": "https://localhost:8080/"
    },
    "id": "at-4-Xub8DYW",
    "outputId": "bc930c8b-5085-437d-d9dc-fa76b3f21707"
   },
   "outputs": [
    {
     "name": "stdout",
     "output_type": "stream",
     "text": [
      "C:\\hack2\\Particle_Images\n"
     ]
    }
   ],
   "source": [
    "cd Particle_Images"
   ]
  },
  {
   "cell_type": "code",
   "execution_count": null,
   "metadata": {
    "id": "BQGKM10j2CiQ"
   },
   "outputs": [],
   "source": [
    "mkdir data/"
   ]
  },
  {
   "cell_type": "markdown",
   "metadata": {
    "id": "PEtRyfNv9XVn"
   },
   "source": [
    "# Download the Dataset\n",
    "This will download 83MB for SingleElectron and 76MB for SinglePhoton."
   ]
  },
  {
   "cell_type": "code",
   "execution_count": null,
   "metadata": {
    "colab": {
     "base_uri": "https://localhost:8080/"
    },
    "id": "rcK1wY4Qt_7Y",
    "outputId": "8b3a5653-b732-40a4-d71b-fa0027499e96"
   },
   "outputs": [
    {
     "name": "stdout",
     "output_type": "stream",
     "text": [
      "--2024-04-01 15:54:52--  https://cernbox.cern.ch/index.php/s/sHjzCNFTFxutYCj/download\n",
      "Resolving cernbox.cern.ch (cernbox.cern.ch)... 128.142.53.35, 137.138.120.151, 128.142.53.28, ...\n",
      "Connecting to cernbox.cern.ch (cernbox.cern.ch)|128.142.53.35|:443... connected.\n",
      "HTTP request sent, awaiting response... 301 Moved Permanently\n",
      "Location: /s/sHjzCNFTFxutYCj/download [following]\n",
      "--2024-04-01 15:54:53--  https://cernbox.cern.ch/s/sHjzCNFTFxutYCj/download\n",
      "Reusing existing connection to cernbox.cern.ch:443.\n",
      "HTTP request sent, awaiting response... 200 OK\n",
      "Length: unspecified [application/octet-stream]\n",
      "Saving to: ‘data/SingleElectronPt50_IMGCROPS_n249k_RHv1.hdf5’\n",
      "\n",
      "data/SingleElectron     [          <=>       ]  82.98M  15.9MB/s    in 6.5s    \n",
      "\n",
      "2024-04-01 15:55:03 (12.9 MB/s) - ‘data/SingleElectronPt50_IMGCROPS_n249k_RHv1.hdf5’ saved [87010508]\n",
      "\n",
      "--2024-04-01 15:55:03--  https://cernbox.cern.ch/index.php/s/69nGEZjOy3xGxBq/download\n",
      "Resolving cernbox.cern.ch (cernbox.cern.ch)... 128.142.53.35, 137.138.120.151, 128.142.53.28, ...\n",
      "Connecting to cernbox.cern.ch (cernbox.cern.ch)|128.142.53.35|:443... connected.\n",
      "HTTP request sent, awaiting response... 301 Moved Permanently\n",
      "Location: /s/69nGEZjOy3xGxBq/download [following]\n",
      "--2024-04-01 15:55:04--  https://cernbox.cern.ch/s/69nGEZjOy3xGxBq/download\n",
      "Reusing existing connection to cernbox.cern.ch:443.\n",
      "HTTP request sent, awaiting response... 200 OK\n",
      "Length: unspecified [application/octet-stream]\n",
      "Saving to: ‘data/SinglePhotonPt50_IMGCROPS_n249k_RHv1.hdf5’\n",
      "\n",
      "data/SinglePhotonPt     [            <=>     ]  76.18M  15.7MB/s    in 6.0s    \n",
      "\n",
      "2024-04-01 15:55:15 (12.7 MB/s) - ‘data/SinglePhotonPt50_IMGCROPS_n249k_RHv1.hdf5’ saved [79876391]\n",
      "\n"
     ]
    }
   ],
   "source": [
    "#!/bin/bash\n",
    "!wget https://cernbox.cern.ch/index.php/s/sHjzCNFTFxutYCj/download -O data/SingleElectronPt50_IMGCROPS_n249k_RHv1.hdf5\n",
    "!wget https://cernbox.cern.ch/index.php/s/69nGEZjOy3xGxBq/download -O data/SinglePhotonPt50_IMGCROPS_n249k_RHv1.hdf5"
   ]
  },
  {
   "cell_type": "markdown",
   "metadata": {
    "id": "BepRE7pn8Du7"
   },
   "source": [
    "# Import modules"
   ]
  },
  {
   "cell_type": "code",
   "execution_count": 2,
   "metadata": {
    "id": "ZnLzC5paz0hb"
   },
   "outputs": [],
   "source": [
    "import numpy as np\n",
    "np.random.seed(42)\n",
    "import torch\n",
    "torch.manual_seed(42)\n",
    "torch.cuda.manual_seed_all\n",
    "import h5py\n",
    "from torch import nn\n",
    "from torch.utils.data import Dataset, DataLoader\n",
    "\n",
    "from sklearn.metrics import roc_curve, auc\n",
    "\n",
    "import matplotlib.pyplot as plt"
   ]
  },
  {
   "cell_type": "code",
   "execution_count": 3,
   "metadata": {
    "id": "_nEib6PgYa3_"
   },
   "outputs": [],
   "source": [
    "import torchvision"
   ]
  },
  {
   "cell_type": "code",
   "execution_count": 4,
   "metadata": {
    "id": "HBsy7x5O8cWH"
   },
   "outputs": [],
   "source": [
    "device = torch.device(\"cuda\" if torch.cuda.is_available() else \"cpu\")"
   ]
  },
  {
   "cell_type": "markdown",
   "metadata": {
    "id": "Az_MoJwZ8K6l"
   },
   "source": [
    "# Pytorch Model Parameters"
   ]
  },
  {
   "cell_type": "code",
   "execution_count": 35,
   "metadata": {
    "id": "ZzF8AHl_4yUA"
   },
   "outputs": [],
   "source": [
    "lr_init     = 5e-3    # Initial learning rate\n",
    "batch_size  = 64      # Training batch size\n",
    "num_samples = 211599  # Maximum of 211599\n",
    "train_size = int((0.8 * num_samples) // 1)\n",
    "valid_size = int((0.1 * num_samples) // 1)\n",
    "test_size = 21159 #int((0.1 * num_samples) // 1) # Needs to be set to 21159 for final eval\n",
    "num_epochs = 40"
   ]
  },
  {
   "cell_type": "markdown",
   "metadata": {
    "id": "_jX_l-WmplJx"
   },
   "source": [
    "It is recommended to use GPU for training and inference if possible."
   ]
  },
  {
   "cell_type": "markdown",
   "metadata": {
    "id": "xwc56kXJ8TLo"
   },
   "source": [
    "# Load Image Data\n",
    "- Two classes of particles: electrons and photons\n",
    "- 32x32 matrices (two channels - hit energy and time) for the two classes of particles electrons and photons impinging on a calorimeter (one calorimetric cell = one pixel).\n",
    "- Note that although timing channel is provided, it may not necessarily help the performance of the model."
   ]
  },
  {
   "cell_type": "code",
   "execution_count": 36,
   "metadata": {
    "id": "kr4QIMlt424u"
   },
   "outputs": [],
   "source": [
    "input_dir = 'data'\n",
    "decays = ['SinglePhotonPt50_IMGCROPS_n249k_RHv1', 'SingleElectronPt50_IMGCROPS_n249k_RHv1']\n",
    "\n",
    "def load_data(decays, start, stop):\n",
    "    global input_dir\n",
    "    dsets = [h5py.File('%s/%s.hdf5'%(input_dir,decay)) for decay in decays]\n",
    "    X = np.concatenate([dset['/X'][start:stop] for dset in dsets])\n",
    "    y = np.concatenate([dset['/y'][start:stop] for dset in dsets])\n",
    "    assert len(X) == len(y)\n",
    "    return X, y"
   ]
  },
  {
   "cell_type": "markdown",
   "metadata": {
    "id": "-JpHCOf38fDL"
   },
   "source": [
    "# Configure Training / Validation / Test Sets"
   ]
  },
  {
   "cell_type": "code",
   "execution_count": 37,
   "metadata": {
    "id": "-RTXS58x46Fq"
   },
   "outputs": [],
   "source": [
    "# Set range of training set\n",
    "train_start, train_stop = 0, train_size\n",
    "assert train_stop > train_start\n",
    "X_train, y_train = load_data(decays,train_start,train_stop)\n",
    "\n",
    "# Set range of validation set\n",
    "valid_start, valid_stop = train_stop, train_stop+valid_size\n",
    "assert valid_stop  >  valid_start\n",
    "assert valid_start >= train_stop\n",
    "X_valid, y_valid = load_data(decays,valid_start,valid_stop)\n",
    "\n",
    "# Set range of test set\n",
    "test_start, test_stop = valid_stop, valid_stop+test_size\n",
    "assert test_stop  >  test_start\n",
    "assert test_start >= valid_stop\n",
    "X_test, y_test = load_data(decays,test_start,test_stop)\n",
    "\n",
    "samples_requested = len(decays) * (train_size + valid_size + test_size)\n",
    "samples_available = len(y_train) + len(y_valid) + len(y_test)\n",
    "assert samples_requested == samples_available\n",
    "\n",
    "X_train = np.moveaxis(X_train, 3, 1)\n",
    "X_valid = np.moveaxis(X_valid, 3, 1)\n",
    "X_test = np.moveaxis(X_test, 3, 1)"
   ]
  },
  {
   "cell_type": "code",
   "execution_count": 22,
   "metadata": {},
   "outputs": [
    {
     "data": {
      "text/plain": [
       "(338558, 2, 32, 32)"
      ]
     },
     "execution_count": 22,
     "metadata": {},
     "output_type": "execute_result"
    }
   ],
   "source": [
    "X_train.shape"
   ]
  },
  {
   "cell_type": "markdown",
   "metadata": {
    "id": "UTFIMRnL8w41"
   },
   "source": [
    "# Plot sample of training images\n",
    "Note that although the timing channel is provided, it may not necessarily help the performance of the model."
   ]
  },
  {
   "cell_type": "code",
   "execution_count": 23,
   "metadata": {
    "colab": {
     "base_uri": "https://localhost:8080/",
     "height": 251
    },
    "id": "e_IDs16U52-C",
    "outputId": "41485f80-6740-4ab0-82e2-cfdeed05f0b2"
   },
   "outputs": [
    {
     "data": {
      "image/png": "[encoded data removed]",
      "text/plain": [
       "<Figure size 640x480 with 2 Axes>"
      ]
     },
     "metadata": {},
     "output_type": "display_data"
    }
   ],
   "source": [
    "plt.figure(1)\n",
    "\n",
    "plt.subplot(221)\n",
    "plt.imshow(X_train[1,0,:,:])\n",
    "plt.title(\"Channel 0: Energy\")  # Energy\n",
    "plt.grid(True)\n",
    "\n",
    "plt.subplot(222)\n",
    "plt.imshow(X_train[1,1,:,:])\n",
    "plt.title(\"Channel 1: Time\")  # Time\n",
    "plt.grid(True)\n",
    "\n",
    "\n",
    "plt.show()"
   ]
  },
  {
   "cell_type": "markdown",
   "metadata": {
    "id": "NvJFlvyX9Mk3"
   },
   "source": [
    "#Construct Dataloaders\n",
    "\n"
   ]
  },
  {
   "cell_type": "code",
   "execution_count": 24,
   "metadata": {
    "id": "7H48lDzE9UUj"
   },
   "outputs": [],
   "source": [
    "class ClassificationDataset(Dataset):\n",
    "    def __init__(self, X, y):\n",
    "        self.X = torch.from_numpy(X.copy()).float()\n",
    "        self.y = torch.from_numpy(y.copy()).long()\n",
    "    def __len__(self):\n",
    "        return len(self.X)\n",
    "    def __getitem__(self, idx):\n",
    "        return self.X[idx], self.y[idx]\n",
    "\n",
    "train_data = ClassificationDataset(X_train, y_train)\n",
    "valid_data = ClassificationDataset(X_valid, y_valid)\n",
    "test_data = ClassificationDataset(X_test, y_test)\n",
    "\n",
    "train_loader = DataLoader(train_data, batch_size=batch_size, shuffle=True)\n",
    "test_loader = DataLoader(test_data, batch_size=batch_size, shuffle=False)\n",
    "valid_loader = DataLoader(valid_data, batch_size=batch_size, shuffle=False)"
   ]
  },
  {
   "cell_type": "code",
   "execution_count": 25,
   "metadata": {
    "id": "MDNTs5QkRFKT"
   },
   "outputs": [],
   "source": [
    "del X_train, y_train, X_valid, y_valid, X_test, y_test"
   ]
  },
  {
   "cell_type": "markdown",
   "metadata": {
    "id": "bsQWFD0M86pA"
   },
   "source": [
    "## Train the Model\n",
    "You may further optimize the model, tune hyper-parameters, etc. accordingly to achieve the best performance possible."
   ]
  },
  {
   "cell_type": "code",
   "execution_count": 26,
   "metadata": {
    "id": "oe7YASKr8Eef"
   },
   "outputs": [],
   "source": [
    "def train_and_validate(train_loader, val_loader, model, optimizer, criterion, num_epochs, metric=None, scheduler=None, device='cpu'):\n",
    "    history = {\n",
    "        'epoch': [],\n",
    "        'train_loss': [],\n",
    "        'train_metric': [],\n",
    "        'val_loss': [],\n",
    "        'val_metric': [],\n",
    "        'learning_rate': []\n",
    "    }  # Initialize a dictionary to store epoch-wise results\n",
    "\n",
    "    model.to(device)  # Move the model to the specified device\n",
    "\n",
    "    with torch.no_grad():\n",
    "        proper_dtype = torch.int64\n",
    "        X,y = next(iter(train_loader))\n",
    "        X = X.to(device)\n",
    "        y = y.to(device)\n",
    "        try:\n",
    "            loss = criterion(model(X), y.to(proper_dtype))\n",
    "        except:\n",
    "            try:\n",
    "                proper_dtype = torch.float32\n",
    "                loss = criterion(model(X), y.to(proper_dtype))\n",
    "            except:\n",
    "                print(\"No valid data-type could be found\")\n",
    "\n",
    "    for epoch in range(num_epochs):\n",
    "        model.train()  # Set the model to training mode\n",
    "        epoch_loss = 0.0  # Initialize the epoch loss and metric values\n",
    "        epoch_metric = 0.0\n",
    "\n",
    "        # Training loop\n",
    "        for X, y in train_loader:\n",
    "            X = X.to(device)\n",
    "            y = y.to(device)\n",
    "            y = y.to(proper_dtype)\n",
    "            optimizer.zero_grad()  # Clear existing gradients\n",
    "            outputs = model(X)  # Make predictions\n",
    "            loss = criterion(outputs, y)  # Compute the loss\n",
    "            loss.backward()  # Compute gradients\n",
    "            optimizer.step()  # Update model parameters\n",
    "\n",
    "            epoch_loss += loss.item()\n",
    "\n",
    "            # THESE LINES HAVE BEEN UPDATED TO ACCOUNT FOR DEFAULT ARGUMENTS\n",
    "            if metric is not None:\n",
    "                epoch_metric += metric(outputs, y)\n",
    "            else:\n",
    "                epoch_metric += 0.0\n",
    "\n",
    "        # Average training loss and metric\n",
    "        epoch_loss /= len(train_loader)\n",
    "        epoch_metric /= len(train_loader)\n",
    "\n",
    "        # Validation loop\n",
    "        model.eval()  # Set the model to evaluation mode\n",
    "        with torch.no_grad():  # Disable gradient calculation\n",
    "            val_loss = 0.0\n",
    "            val_metric = 0.0\n",
    "            for X_val, y_val in val_loader:\n",
    "                X_val = X_val.to(device)\n",
    "                y_val = y_val.to(device)\n",
    "                y_val = y_val.to(proper_dtype)\n",
    "                outputs_val = model(X_val)  # Make predictions\n",
    "                val_loss += criterion(outputs_val, y_val).item()  # Compute loss\n",
    "                if metric is not None:\n",
    "                    val_metric += metric(outputs_val, y_val)\n",
    "                else:\n",
    "                    val_metric += 0.0\n",
    "\n",
    "            val_loss /= len(val_loader)\n",
    "            val_metric /= len(val_loader)\n",
    "\n",
    "        # Append epoch results to history\n",
    "        history['epoch'].append(epoch)\n",
    "        history['train_loss'].append(epoch_loss)\n",
    "        history['train_metric'].append(epoch_metric)\n",
    "        history['val_loss'].append(val_loss)\n",
    "        history['val_metric'].append(val_metric)\n",
    "        history['learning_rate'].append(optimizer.param_groups[0]['lr'])\n",
    "\n",
    "        print(f'Epoch [{epoch+1}/{num_epochs}], Train Loss: {epoch_loss:.4f}, '\n",
    "              f'Train Metric: {epoch_metric:.4f}, Val Loss: {val_loss:.4f}, '\n",
    "              f'Val Metric: {val_metric:.4f}')\n",
    "\n",
    "        if scheduler is not None:\n",
    "            scheduler.step(val_loss)\n",
    "\n",
    "    return history, model"
   ]
  },
  {
   "cell_type": "code",
   "execution_count": 27,
   "metadata": {
    "id": "rpB7q8rF8JRJ"
   },
   "outputs": [],
   "source": [
    "def test_model(model, data_loader, criterion, metric=None, device='cpu'):\n",
    "    model.to(device)  # Move the model to the specified device\n",
    "\n",
    "    model.eval()  # Set the model to evaluation mode\n",
    "\n",
    "    total_loss = 0.0  # Initialize the total loss and metric values\n",
    "    total_metric = 0.0\n",
    "\n",
    "    with torch.no_grad():\n",
    "        proper_dtype = torch.int64\n",
    "        X,y = next(iter(data_loader))\n",
    "        X = X.to(device)\n",
    "        y = y.to(device)\n",
    "        try:\n",
    "            loss = criterion(model(X), y.to(proper_dtype))\n",
    "        except:\n",
    "            try:\n",
    "                proper_dtype = torch.float32\n",
    "                loss = criterion(model(X), y.to(proper_dtype))\n",
    "            except:\n",
    "                print(\"No valid data-type could be found\")\n",
    "\n",
    "\n",
    "    with torch.no_grad():  # Disable gradient tracking\n",
    "        for batch in data_loader:\n",
    "            X, y = batch\n",
    "            X = X.to(device)\n",
    "            y = y.to(device)\n",
    "            y = y.to(proper_dtype)\n",
    "            # Pass the data to the model and make predictions\n",
    "            outputs = model(X)\n",
    "\n",
    "            # Compute the loss\n",
    "            loss = criterion(outputs, y)\n",
    "\n",
    "            # Add the loss and metric for the batch to the total values\n",
    "            total_loss += loss.item()\n",
    "\n",
    "            if metric is not None:\n",
    "                total_metric += metric(outputs, y)\n",
    "            else:\n",
    "                total_metric += 0.0\n",
    "\n",
    "    # Average loss and metric for the entire dataset\n",
    "    avg_loss = total_loss / len(data_loader)\n",
    "    avg_metric = total_metric / len(data_loader)\n",
    "\n",
    "    print(f'Test Loss: {avg_loss:.4f}, Test Metric: {avg_metric:.4f}')\n",
    "\n",
    "    return avg_loss, avg_metric"
   ]
  },
  {
   "cell_type": "code",
   "execution_count": 28,
   "metadata": {
    "id": "G1i2meDF8MS8"
   },
   "outputs": [],
   "source": [
    "def accuracy_metric(pred, target):\n",
    "    if len(pred.shape) == 1:\n",
    "        accuracy = torch.sum(torch.eq(pred > 0.5, target)).item() / len(pred)\n",
    "    else:\n",
    "        pred = pred.argmax(dim=1)\n",
    "        accuracy = torch.sum(pred == target).item() / len(pred)\n",
    "    return accuracy"
   ]
  },
  {
   "cell_type": "code",
   "execution_count": 29,
   "metadata": {
    "id": "pP2e7Q2dZcFE"
   },
   "outputs": [],
   "source": [
    "class ResidualBlock(nn.Module):\n",
    "    def __init__(self,in_channels,out_channels,stride=1,kernel_size=3,padding=1,bias=False):\n",
    "        super(ResidualBlock,self).__init__()\n",
    "        self.cnn1 =nn.Sequential(\n",
    "            nn.Conv2d(in_channels,out_channels,kernel_size,stride,padding,bias=False),\n",
    "            nn.BatchNorm2d(out_channels),\n",
    "            nn.ReLU(True)\n",
    "        )\n",
    "        self.cnn2 = nn.Sequential(\n",
    "            nn.Conv2d(out_channels,out_channels,kernel_size,1,padding,bias=False),\n",
    "            nn.BatchNorm2d(out_channels)\n",
    "        )\n",
    "        if stride != 1 or in_channels != out_channels:\n",
    "            self.shortcut = nn.Sequential(\n",
    "                nn.Conv2d(in_channels,out_channels,kernel_size=1,stride=stride,bias=False),\n",
    "                nn.BatchNorm2d(out_channels)\n",
    "            )\n",
    "        else:\n",
    "            self.shortcut = nn.Sequential()\n",
    "\n",
    "    def forward(self,x):\n",
    "        residual = x\n",
    "        x = self.cnn1(x)\n",
    "        x = self.cnn2(x)\n",
    "        x += self.shortcut(residual)\n",
    "        x = nn.ReLU(True)(x)\n",
    "        return x"
   ]
  },
  {
   "cell_type": "code",
   "execution_count": 30,
   "metadata": {
    "id": "Be-E_1CbYOLG"
   },
   "outputs": [],
   "source": [
    "class ResNet18(nn.Module):\n",
    "    def __init__(self):\n",
    "        super(ResNet18,self).__init__()\n",
    "\n",
    "        self.block1 = nn.Sequential(\n",
    "            nn.Conv2d(2,64,kernel_size=2,stride=2,padding=3,bias=False),\n",
    "            nn.BatchNorm2d(64),\n",
    "            nn.ReLU(True)\n",
    "        )\n",
    "\n",
    "        self.block2 = nn.Sequential(\n",
    "            nn.MaxPool2d(1,1),\n",
    "            ResidualBlock(64,64),\n",
    "            ResidualBlock(64,64,2)\n",
    "        )\n",
    "\n",
    "        self.block3 = nn.Sequential(\n",
    "            ResidualBlock(64,128),\n",
    "            ResidualBlock(128,128,2)\n",
    "        )\n",
    "\n",
    "        self.block4 = nn.Sequential(\n",
    "            ResidualBlock(128,256),\n",
    "            ResidualBlock(256,256,2)\n",
    "        )\n",
    "        self.block5 = nn.Sequential(\n",
    "            ResidualBlock(256,512),\n",
    "            ResidualBlock(512,512,2)\n",
    "        )\n",
    "\n",
    "        self.avgpool = nn.AvgPool2d(2)\n",
    "        self.fc1 = nn.Linear(512,128)\n",
    "        self.fc2 = nn.Linear(128,1)\n",
    "        self.sigmoid = nn.Sigmoid()\n",
    "        self.flatten = nn.Flatten()\n",
    "\n",
    "\n",
    "    def forward(self,x):\n",
    "        x = self.block1(x)\n",
    "        x = self.block2(x)\n",
    "        x = self.block3(x)\n",
    "        x = self.block4(x)\n",
    "        x = self.block5(x)\n",
    "        x = self.avgpool(x)\n",
    "        x = self.flatten(x)\n",
    "        x = self.fc1(x)\n",
    "        x = self.fc2(x)\n",
    "        x = self.sigmoid(x)\n",
    "        x = x.view(-1)\n",
    "\n",
    "        return x"
   ]
  },
  {
   "cell_type": "code",
   "execution_count": 31,
   "metadata": {
    "id": "7EbQrPIiZfYz"
   },
   "outputs": [],
   "source": [
    "model = ResNet18()"
   ]
  },
  {
   "cell_type": "code",
   "execution_count": 32,
   "metadata": {
    "colab": {
     "base_uri": "https://localhost:8080/"
    },
    "id": "ZGuyM25L7uc0",
    "outputId": "a6fe2d7c-7493-4ab2-da10-55fddef43ae8"
   },
   "outputs": [
    {
     "name": "stdout",
     "output_type": "stream",
     "text": [
      "Epoch [1/40], Train Loss: 0.6170, Train Metric: 0.6615, Val Loss: 0.5963, Val Metric: 0.6912\n",
      "Epoch [2/40], Train Loss: 0.5794, Train Metric: 0.7037, Val Loss: 0.5786, Val Metric: 0.7065\n",
      "Epoch [3/40], Train Loss: 0.5678, Train Metric: 0.7129, Val Loss: 0.5645, Val Metric: 0.7124\n",
      "Epoch [4/40], Train Loss: 0.5610, Train Metric: 0.7186, Val Loss: 0.5627, Val Metric: 0.7139\n",
      "Epoch [5/40], Train Loss: 0.5556, Train Metric: 0.7228, Val Loss: 0.5565, Val Metric: 0.7236\n",
      "Epoch [6/40], Train Loss: 0.5527, Train Metric: 0.7248, Val Loss: 0.5458, Val Metric: 0.7294\n",
      "Epoch [7/40], Train Loss: 0.5499, Train Metric: 0.7266, Val Loss: 0.5464, Val Metric: 0.7287\n",
      "Epoch [8/40], Train Loss: 0.5477, Train Metric: 0.7282, Val Loss: 0.5434, Val Metric: 0.7319\n",
      "Epoch [9/40], Train Loss: 0.5459, Train Metric: 0.7295, Val Loss: 0.5567, Val Metric: 0.7244\n",
      "Epoch [10/40], Train Loss: 0.5443, Train Metric: 0.7311, Val Loss: 0.5459, Val Metric: 0.7287\n",
      "Epoch [11/40], Train Loss: 0.5433, Train Metric: 0.7310, Val Loss: 0.5459, Val Metric: 0.7319\n",
      "Epoch [12/40], Train Loss: 0.5325, Train Metric: 0.7387, Val Loss: 0.5339, Val Metric: 0.7393\n",
      "Epoch [13/40], Train Loss: 0.5302, Train Metric: 0.7406, Val Loss: 0.5336, Val Metric: 0.7392\n",
      "Epoch [14/40], Train Loss: 0.5292, Train Metric: 0.7413, Val Loss: 0.5337, Val Metric: 0.7404\n",
      "Epoch [15/40], Train Loss: 0.5283, Train Metric: 0.7414, Val Loss: 0.5332, Val Metric: 0.7404\n",
      "Epoch [16/40], Train Loss: 0.5274, Train Metric: 0.7421, Val Loss: 0.5342, Val Metric: 0.7400\n",
      "Epoch [17/40], Train Loss: 0.5263, Train Metric: 0.7429, Val Loss: 0.5333, Val Metric: 0.7385\n",
      "Epoch [18/40], Train Loss: 0.5255, Train Metric: 0.7434, Val Loss: 0.5326, Val Metric: 0.7396\n",
      "Epoch [19/40], Train Loss: 0.5250, Train Metric: 0.7435, Val Loss: 0.5354, Val Metric: 0.7400\n",
      "Epoch [20/40], Train Loss: 0.5240, Train Metric: 0.7443, Val Loss: 0.5334, Val Metric: 0.7401\n",
      "Epoch [21/40], Train Loss: 0.5234, Train Metric: 0.7449, Val Loss: 0.5343, Val Metric: 0.7380\n",
      "Epoch [22/40], Train Loss: 0.5195, Train Metric: 0.7472, Val Loss: 0.5325, Val Metric: 0.7387\n",
      "Epoch [23/40], Train Loss: 0.5188, Train Metric: 0.7478, Val Loss: 0.5326, Val Metric: 0.7404\n",
      "Epoch [24/40], Train Loss: 0.5185, Train Metric: 0.7479, Val Loss: 0.5327, Val Metric: 0.7394\n",
      "Epoch [25/40], Train Loss: 0.5181, Train Metric: 0.7481, Val Loss: 0.5334, Val Metric: 0.7398\n",
      "Epoch [26/40], Train Loss: 0.5172, Train Metric: 0.7486, Val Loss: 0.5326, Val Metric: 0.7395\n",
      "Epoch [27/40], Train Loss: 0.5171, Train Metric: 0.7488, Val Loss: 0.5326, Val Metric: 0.7403\n",
      "Epoch [28/40], Train Loss: 0.5167, Train Metric: 0.7493, Val Loss: 0.5333, Val Metric: 0.7398\n",
      "Epoch [29/40], Train Loss: 0.5168, Train Metric: 0.7492, Val Loss: 0.5332, Val Metric: 0.7396\n",
      "Epoch [30/40], Train Loss: 0.5168, Train Metric: 0.7493, Val Loss: 0.5328, Val Metric: 0.7398\n",
      "Epoch [31/40], Train Loss: 0.5166, Train Metric: 0.7494, Val Loss: 0.5328, Val Metric: 0.7399\n",
      "Epoch [32/40], Train Loss: 0.5168, Train Metric: 0.7489, Val Loss: 0.5327, Val Metric: 0.7393\n",
      "Epoch [33/40], Train Loss: 0.5166, Train Metric: 0.7493, Val Loss: 0.5329, Val Metric: 0.7401\n",
      "Epoch [34/40], Train Loss: 0.5164, Train Metric: 0.7494, Val Loss: 0.5329, Val Metric: 0.7393\n",
      "Epoch [35/40], Train Loss: 0.5168, Train Metric: 0.7487, Val Loss: 0.5330, Val Metric: 0.7395\n",
      "Epoch [36/40], Train Loss: 0.5165, Train Metric: 0.7490, Val Loss: 0.5331, Val Metric: 0.7397\n",
      "Epoch [37/40], Train Loss: 0.5167, Train Metric: 0.7494, Val Loss: 0.5327, Val Metric: 0.7397\n",
      "Epoch [38/40], Train Loss: 0.5164, Train Metric: 0.7496, Val Loss: 0.5329, Val Metric: 0.7396\n",
      "Epoch [39/40], Train Loss: 0.5166, Train Metric: 0.7493, Val Loss: 0.5328, Val Metric: 0.7398\n",
      "Epoch [40/40], Train Loss: 0.5166, Train Metric: 0.7491, Val Loss: 0.5328, Val Metric: 0.7392\n"
     ]
    }
   ],
   "source": [
    "optimizer = torch.optim.Adam(model.parameters(), lr=lr_init)\n",
    "scheduler = torch.optim.lr_scheduler.ReduceLROnPlateau(optimizer, factor=0.2, patience=2)\n",
    "criterion = nn.BCELoss()\n",
    "history, model = train_and_validate(train_loader, valid_loader, model, optimizer, criterion, num_epochs=num_epochs, metric=accuracy_metric, scheduler=scheduler, device=device)"
   ]
  },
  {
   "cell_type": "markdown",
   "metadata": {
    "id": "oLoN43278_-j"
   },
   "source": [
    "## Evaluate the Model  \n",
    "Along with the model accuracy, the prefered metric for evaluation is ROC (Receiver Operating Characteristic) curve and the AUC score (Area under the ROC Curve)."
   ]
  },
  {
   "cell_type": "code",
   "execution_count": 38,
   "metadata": {
    "id": "ekuQLYas7xh5"
   },
   "outputs": [
    {
     "name": "stdout",
     "output_type": "stream",
     "text": [
      "Test Loss: 0.5328, Test Metric: 0.7392\n",
      "\n",
      "Validation loss / accuracy: 0.5328 / 0.7392\n",
      "Validation ROC AUC: 0.8102484444379134\n",
      "Test Loss: 0.5302, Test Metric: 0.7409\n",
      "\n",
      "Test loss / accuracy: 0.5302 / 0.7409\n",
      "Test ROC AUC: 0.8102484444379134\n"
     ]
    }
   ],
   "source": [
    "# Evaluate on validation set\n",
    "score = test_model(model, valid_loader, criterion, metric=accuracy_metric, device=device)\n",
    "print('\\nValidation loss / accuracy: %0.4f / %0.4f'%(score[0], score[1]))\n",
    "# IF YOUR MODEL IS TOO LARGE THEN USE THE FOLLOWING TO KEEP THE MODEL ON GPU\n",
    "# AND THE DATA ON CPU\n",
    "model.to(device)\n",
    "model.eval()\n",
    "with torch.no_grad():\n",
    "  y_pred = [model(x[0].to(device)).to('cpu').detach().numpy() for x in valid_loader]\n",
    "labels = [x[1] for x in valid_loader]\n",
    "y_pred = np.concatenate(y_pred, axis=0)\n",
    "labels = np.concatenate(labels, axis=0)\n",
    "fpr, tpr, _ = roc_curve(labels, y_pred)\n",
    "roc_auc = auc(fpr, tpr)\n",
    "print('Validation ROC AUC:', roc_auc)\n",
    "\n",
    "# Evaluate on test set\n",
    "score = test_model(model, test_loader, criterion, metric=accuracy_metric, device=device)\n",
    "print('\\nTest loss / accuracy: %0.4f / %0.4f'%(score[0], score[1]))\n",
    "# IF YOUR MODEL IS TOO LARGE THEN USE THE FOLLOWING TO KEEP THE MODEL ON GPU\n",
    "# AND THE DATA ON CPU\n",
    "model.to(device)\n",
    "model.eval()\n",
    "with torch.no_grad():\n",
    "  y_pred = [model(x[0].to(device)).to('cpu').detach().numpy() for x in valid_loader]\n",
    "labels = [x[1] for x in test_loader]\n",
    "y_pred = np.concatenate(y_pred, axis=0)\n",
    "labels = np.concatenate(labels, axis=0)\n",
    "fpr, tpr, _ = roc_curve(labels, y_pred)\n",
    "roc_auc = auc(fpr, tpr)\n",
    "print('Test ROC AUC:', roc_auc)"
   ]
  },
  {
   "cell_type": "code",
   "execution_count": 39,
   "metadata": {
    "id": "kmSRYI0R72Wn"
   },
   "outputs": [
    {
     "data": {
      "image/png": "[encoded data removed]",
      "text/plain": [
       "<Figure size 640x480 with 1 Axes>"
      ]
     },
     "metadata": {},
     "output_type": "display_data"
    }
   ],
   "source": [
    "plt.plot([0, 1], [0, 1], 'k--')\n",
    "#plt.legend(loc=2, prop={'size': 15})\n",
    "plt.plot(fpr, tpr, label='Model 1 (ROC-AUC = {:.3f})'.format(roc_auc))\n",
    "plt.xlabel('False positive rate')\n",
    "plt.ylabel('True positive rate')\n",
    "plt.title('ROC curve')\n",
    "plt.legend(loc='best')\n",
    "plt.show()"
   ]
  },
  {
   "cell_type": "markdown",
   "metadata": {
    "id": "Nna7GkM45Y5w"
   },
   "source": [
    "# Submission format:\n",
    "Submit the Google Colab Jupyter Notebook demonstrating your solution in the similar format as illustrated in this notebook. It should contain:\n",
    "*   The final model architecture, parameters and hyper-parameters yielding the best possible performance,\n",
    "*   Its Training and Validation accuracy,\n",
    "*   ROC curve and the AUC score as shown above.\n",
    "*   Also, please submit the final trained model containing the model architecture and its trained weights along with this notebook (For example: HDF5 file, .pb file, .pt file, etc.). Either in this notebook or in a separate notebook show how to load and use your model."
   ]
  },
  {
   "cell_type": "code",
   "execution_count": 46,
   "metadata": {},
   "outputs": [],
   "source": [
    "#Save model\n",
    "torch.save(model,'model_group15.h5')"
   ]
  },
  {
   "cell_type": "code",
   "execution_count": 47,
   "metadata": {
    "id": "56_teGfk8cWL"
   },
   "outputs": [],
   "source": [
    "#Save trained weights\n",
    "torch.save(model.state_dict(), 'model_weights_group15.h5')"
   ]
  },
  {
   "cell_type": "code",
   "execution_count": 48,
   "metadata": {},
   "outputs": [
    {
     "data": {
      "text/plain": [
       "<All keys matched successfully>"
      ]
     },
     "execution_count": 48,
     "metadata": {},
     "output_type": "execute_result"
    }
   ],
   "source": [
    "#Load model and weights\n",
    "model2 = torch.load('model_group15.h5')\n",
    "model2.load_state_dict(torch.load('model_weights_group15.h5'))"
   ]
  },
  {
   "cell_type": "code",
   "execution_count": 49,
   "metadata": {},
   "outputs": [
    {
     "data": {
      "text/plain": [
       "ResNet18(\n",
       "  (block1): Sequential(\n",
       "    (0): Conv2d(2, 64, kernel_size=(2, 2), stride=(2, 2), padding=(3, 3), bias=False)\n",
       "    (1): BatchNorm2d(64, eps=1e-05, momentum=0.1, affine=True, track_running_stats=True)\n",
       "    (2): ReLU(inplace=True)\n",
       "  )\n",
       "  (block2): Sequential(\n",
       "    (0): MaxPool2d(kernel_size=1, stride=1, padding=0, dilation=1, ceil_mode=False)\n",
       "    (1): ResidualBlock(\n",
       "      (cnn1): Sequential(\n",
       "        (0): Conv2d(64, 64, kernel_size=(3, 3), stride=(1, 1), padding=(1, 1), bias=False)\n",
       "        (1): BatchNorm2d(64, eps=1e-05, momentum=0.1, affine=True, track_running_stats=True)\n",
       "        (2): ReLU(inplace=True)\n",
       "      )\n",
       "      (cnn2): Sequential(\n",
       "        (0): Conv2d(64, 64, kernel_size=(3, 3), stride=(1, 1), padding=(1, 1), bias=False)\n",
       "        (1): BatchNorm2d(64, eps=1e-05, momentum=0.1, affine=True, track_running_stats=True)\n",
       "      )\n",
       "      (shortcut): Sequential()\n",
       "    )\n",
       "    (2): ResidualBlock(\n",
       "      (cnn1): Sequential(\n",
       "        (0): Conv2d(64, 64, kernel_size=(3, 3), stride=(2, 2), padding=(1, 1), bias=False)\n",
       "        (1): BatchNorm2d(64, eps=1e-05, momentum=0.1, affine=True, track_running_stats=True)\n",
       "        (2): ReLU(inplace=True)\n",
       "      )\n",
       "      (cnn2): Sequential(\n",
       "        (0): Conv2d(64, 64, kernel_size=(3, 3), stride=(1, 1), padding=(1, 1), bias=False)\n",
       "        (1): BatchNorm2d(64, eps=1e-05, momentum=0.1, affine=True, track_running_stats=True)\n",
       "      )\n",
       "      (shortcut): Sequential(\n",
       "        (0): Conv2d(64, 64, kernel_size=(1, 1), stride=(2, 2), bias=False)\n",
       "        (1): BatchNorm2d(64, eps=1e-05, momentum=0.1, affine=True, track_running_stats=True)\n",
       "      )\n",
       "    )\n",
       "  )\n",
       "  (block3): Sequential(\n",
       "    (0): ResidualBlock(\n",
       "      (cnn1): Sequential(\n",
       "        (0): Conv2d(64, 128, kernel_size=(3, 3), stride=(1, 1), padding=(1, 1), bias=False)\n",
       "        (1): BatchNorm2d(128, eps=1e-05, momentum=0.1, affine=True, track_running_stats=True)\n",
       "        (2): ReLU(inplace=True)\n",
       "      )\n",
       "      (cnn2): Sequential(\n",
       "        (0): Conv2d(128, 128, kernel_size=(3, 3), stride=(1, 1), padding=(1, 1), bias=False)\n",
       "        (1): BatchNorm2d(128, eps=1e-05, momentum=0.1, affine=True, track_running_stats=True)\n",
       "      )\n",
       "      (shortcut): Sequential(\n",
       "        (0): Conv2d(64, 128, kernel_size=(1, 1), stride=(1, 1), bias=False)\n",
       "        (1): BatchNorm2d(128, eps=1e-05, momentum=0.1, affine=True, track_running_stats=True)\n",
       "      )\n",
       "    )\n",
       "    (1): ResidualBlock(\n",
       "      (cnn1): Sequential(\n",
       "        (0): Conv2d(128, 128, kernel_size=(3, 3), stride=(2, 2), padding=(1, 1), bias=False)\n",
       "        (1): BatchNorm2d(128, eps=1e-05, momentum=0.1, affine=True, track_running_stats=True)\n",
       "        (2): ReLU(inplace=True)\n",
       "      )\n",
       "      (cnn2): Sequential(\n",
       "        (0): Conv2d(128, 128, kernel_size=(3, 3), stride=(1, 1), padding=(1, 1), bias=False)\n",
       "        (1): BatchNorm2d(128, eps=1e-05, momentum=0.1, affine=True, track_running_stats=True)\n",
       "      )\n",
       "      (shortcut): Sequential(\n",
       "        (0): Conv2d(128, 128, kernel_size=(1, 1), stride=(2, 2), bias=False)\n",
       "        (1): BatchNorm2d(128, eps=1e-05, momentum=0.1, affine=True, track_running_stats=True)\n",
       "      )\n",
       "    )\n",
       "  )\n",
       "  (block4): Sequential(\n",
       "    (0): ResidualBlock(\n",
       "      (cnn1): Sequential(\n",
       "        (0): Conv2d(128, 256, kernel_size=(3, 3), stride=(1, 1), padding=(1, 1), bias=False)\n",
       "        (1): BatchNorm2d(256, eps=1e-05, momentum=0.1, affine=True, track_running_stats=True)\n",
       "        (2): ReLU(inplace=True)\n",
       "      )\n",
       "      (cnn2): Sequential(\n",
       "        (0): Conv2d(256, 256, kernel_size=(3, 3), stride=(1, 1), padding=(1, 1), bias=False)\n",
       "        (1): BatchNorm2d(256, eps=1e-05, momentum=0.1, affine=True, track_running_stats=True)\n",
       "      )\n",
       "      (shortcut): Sequential(\n",
       "        (0): Conv2d(128, 256, kernel_size=(1, 1), stride=(1, 1), bias=False)\n",
       "        (1): BatchNorm2d(256, eps=1e-05, momentum=0.1, affine=True, track_running_stats=True)\n",
       "      )\n",
       "    )\n",
       "    (1): ResidualBlock(\n",
       "      (cnn1): Sequential(\n",
       "        (0): Conv2d(256, 256, kernel_size=(3, 3), stride=(2, 2), padding=(1, 1), bias=False)\n",
       "        (1): BatchNorm2d(256, eps=1e-05, momentum=0.1, affine=True, track_running_stats=True)\n",
       "        (2): ReLU(inplace=True)\n",
       "      )\n",
       "      (cnn2): Sequential(\n",
       "        (0): Conv2d(256, 256, kernel_size=(3, 3), stride=(1, 1), padding=(1, 1), bias=False)\n",
       "        (1): BatchNorm2d(256, eps=1e-05, momentum=0.1, affine=True, track_running_stats=True)\n",
       "      )\n",
       "      (shortcut): Sequential(\n",
       "        (0): Conv2d(256, 256, kernel_size=(1, 1), stride=(2, 2), bias=False)\n",
       "        (1): BatchNorm2d(256, eps=1e-05, momentum=0.1, affine=True, track_running_stats=True)\n",
       "      )\n",
       "    )\n",
       "  )\n",
       "  (block5): Sequential(\n",
       "    (0): ResidualBlock(\n",
       "      (cnn1): Sequential(\n",
       "        (0): Conv2d(256, 512, kernel_size=(3, 3), stride=(1, 1), padding=(1, 1), bias=False)\n",
       "        (1): BatchNorm2d(512, eps=1e-05, momentum=0.1, affine=True, track_running_stats=True)\n",
       "        (2): ReLU(inplace=True)\n",
       "      )\n",
       "      (cnn2): Sequential(\n",
       "        (0): Conv2d(512, 512, kernel_size=(3, 3), stride=(1, 1), padding=(1, 1), bias=False)\n",
       "        (1): BatchNorm2d(512, eps=1e-05, momentum=0.1, affine=True, track_running_stats=True)\n",
       "      )\n",
       "      (shortcut): Sequential(\n",
       "        (0): Conv2d(256, 512, kernel_size=(1, 1), stride=(1, 1), bias=False)\n",
       "        (1): BatchNorm2d(512, eps=1e-05, momentum=0.1, affine=True, track_running_stats=True)\n",
       "      )\n",
       "    )\n",
       "    (1): ResidualBlock(\n",
       "      (cnn1): Sequential(\n",
       "        (0): Conv2d(512, 512, kernel_size=(3, 3), stride=(2, 2), padding=(1, 1), bias=False)\n",
       "        (1): BatchNorm2d(512, eps=1e-05, momentum=0.1, affine=True, track_running_stats=True)\n",
       "        (2): ReLU(inplace=True)\n",
       "      )\n",
       "      (cnn2): Sequential(\n",
       "        (0): Conv2d(512, 512, kernel_size=(3, 3), stride=(1, 1), padding=(1, 1), bias=False)\n",
       "        (1): BatchNorm2d(512, eps=1e-05, momentum=0.1, affine=True, track_running_stats=True)\n",
       "      )\n",
       "      (shortcut): Sequential(\n",
       "        (0): Conv2d(512, 512, kernel_size=(1, 1), stride=(2, 2), bias=False)\n",
       "        (1): BatchNorm2d(512, eps=1e-05, momentum=0.1, affine=True, track_running_stats=True)\n",
       "      )\n",
       "    )\n",
       "  )\n",
       "  (avgpool): AvgPool2d(kernel_size=2, stride=2, padding=0)\n",
       "  (fc1): Linear(in_features=512, out_features=128, bias=True)\n",
       "  (fc2): Linear(in_features=128, out_features=1, bias=True)\n",
       "  (sigmoid): Sigmoid()\n",
       "  (flatten): Flatten(start_dim=1, end_dim=-1)\n",
       ")"
      ]
     },
     "execution_count": 49,
     "metadata": {},
     "output_type": "execute_result"
    }
   ],
   "source": [
    "model2"
   ]
  },
  {
   "cell_type": "code",
   "execution_count": null,
   "metadata": {},
   "outputs": [],
   "source": []
  }
 ],
 "metadata": {
  "accelerator": "GPU",
  "colab": {
   "provenance": []
  },
  "kernelspec": {
   "display_name": "Python 3 (ipykernel)",
   "language": "python",
   "name": "python3"
  },
  "language_info": {
   "codemirror_mode": {
    "name": "ipython",
    "version": 3
   },
   "file_extension": ".py",
   "mimetype": "text/x-python",
   "name": "python",
   "nbconvert_exporter": "python",
   "pygments_lexer": "ipython3",
   "version": "3.10.14"
  }
 },
 "nbformat": 4,
 "nbformat_minor": 4
}
